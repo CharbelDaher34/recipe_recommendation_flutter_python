{
 "cells": [
  {
   "cell_type": "code",
   "execution_count": 32,
   "metadata": {},
   "outputs": [],
   "source": [
    "import pandas as pd\n",
    "\n",
    "df = pd.read_csv(\"../api/data.csv\")"
   ]
  },
  {
   "cell_type": "markdown",
   "metadata": {},
   "source": []
  },
  {
   "cell_type": "code",
   "execution_count": 31,
   "metadata": {},
   "outputs": [
    {
     "name": "stdout",
     "output_type": "stream",
     "text": [
      "Connected to Elasticsearch\n"
     ]
    },
    {
     "name": "stderr",
     "output_type": "stream",
     "text": [
      "/home/charbel/anaconda3/lib/python3.12/site-packages/urllib3/connectionpool.py:1099: InsecureRequestWarning: Unverified HTTPS request is being made to host 'localhost'. Adding certificate verification is strongly advised. See: https://urllib3.readthedocs.io/en/latest/advanced-usage.html#tls-warnings\n",
      "  warnings.warn(\n"
     ]
    }
   ],
   "source": [
    "from elasticsearch import Elasticsearch\n",
    "\n",
    "# Create a client instance\n",
    "# For local Elasticsearch (default settings)\n",
    "from elasticsearch import Elasticsearch\n",
    "\n",
    "es = Elasticsearch(\n",
    "    \"https://localhost:9200\",\n",
    "    basic_auth=(\"elastic\", \"TyE3xKUcfnJT_3VkbC4k\"),  # Default username is \"elastic\"\n",
    "    verify_certs=False,  # Only in development! Not recommended for production\n",
    ")\n",
    "# For remote Elasticsearch with authentication\n",
    "# es = Elasticsearch(\n",
    "#     \"https://your-elasticsearch-host:9200\",\n",
    "#     basic_auth=(\"username\", \"password\")\n",
    "# )\n",
    "\n",
    "# Verify the connection\n",
    "if es.ping():\n",
    "    print(\"Connected to Elasticsearch\")\n",
    "else:\n",
    "    print(\"Could not connect to Elasticsearch\")"
   ]
  },
  {
   "cell_type": "markdown",
   "metadata": {},
   "source": [
    "eyJ2ZXIiOiI4LjE0LjAiLCJhZHIiOlsiMTcyLjE4LjAuMjo5MjAwIl0sImZnciI6IjgxY2QzZTMyMmI3MjIyY2YzMDFmODQ3ZGQyNmIzZTJkZTE3YWQzYjY4YWRlNGY1MTYzMDNjNGViMmNkNTdkNGQiLCJrZXkiOiJ6OTFDNkpNQnlGYllncXFSS093dzpCQWFieXptSFJsU21wckVvREpUcWJRIn0=\n"
   ]
  },
  {
   "cell_type": "code",
   "execution_count": 45,
   "metadata": {},
   "outputs": [],
   "source": [
    "# Elasticsearch mappings for the models\n",
    "\n",
    "USER_MAPPING = {\n",
    "    \"mappings\": {\n",
    "        \"properties\": {\n",
    "            \"email\": {\"type\": \"keyword\"},  # exact match for emails\n",
    "            \"name\": {\"type\": \"text\"},\n",
    "            \"password\": {\"type\": \"keyword\"},  # we shouldn't store plain passwords in ES\n",
    "            \"embedding\": {\n",
    "                \"type\": \"dense_vector\",\n",
    "                \"dims\": 768,  # adjust dimension based on your embedding model\n",
    "            },\n",
    "        }\n",
    "    }\n",
    "}\n",
    "\n",
    "RECIPE_MAPPING = {\n",
    "    \"mappings\": {\n",
    "        \"properties\": {\n",
    "            \"id\": {\"type\": \"integer\"},\n",
    "            \"title\": {\n",
    "                \"type\": \"text\",\n",
    "                \"fields\": {\n",
    "                    \"keyword\": {\n",
    "                        \"type\": \"keyword\"\n",
    "                    }  # allows both full-text and exact matching\n",
    "                },\n",
    "            },\n",
    "            \"ingredients\": {\"type\": \"text\", \"index\": True, \"analyzer\": \"standard\"},\n",
    "            \"instructions\": {\"type\": \"text\"},\n",
    "            \"prep_time\": {\"type\": \"integer\"},\n",
    "            \"cook_time\": {\"type\": \"integer\"},\n",
    "            \"cuisine\": {\"type\": \"keyword\"},\n",
    "            \"course\": {\"type\": \"keyword\"},\n",
    "            \"diet\": {\"type\": \"keyword\"},\n",
    "            \"image\": {\"type\": \"text\", \"index\": False},  # URLs stored as keywords\n",
    "            \"url\": {\"type\": \"text\", \"index\": False},\n",
    "            \"embedding\": {\n",
    "                \"type\": \"dense_vector\",\n",
    "                \"dims\": 768,  # adjust dimension based on your embedding model\n",
    "                \"index\": True,\n",
    "                \"similarity\": \"cosine\",\n",
    "            },\n",
    "        }\n",
    "    }\n",
    "}\n",
    "\n",
    "FEEDBACK_MAPPING = {\n",
    "    \"mappings\": {\n",
    "        \"properties\": {\n",
    "            \"email\": {\"type\": \"keyword\"},\n",
    "            \"input_description\": {\"type\": \"text\"},\n",
    "            \"input_image\": {\"type\": \"keyword\"},\n",
    "            \"recipe_id\": {\"type\": \"integer\"},\n",
    "            \"rating\": {\"type\": \"integer\"},\n",
    "            \"comment\": {\"type\": \"text\"},\n",
    "        }\n",
    "    }\n",
    "}\n",
    "\n",
    "RECIPE_ADD_MAPPING = {\n",
    "    \"mappings\": {\n",
    "        \"properties\": {\n",
    "            \"id\": {\"type\": \"integer\"},\n",
    "            \"title\": {\"type\": \"text\", \"fields\": {\"keyword\": {\"type\": \"keyword\"}}},\n",
    "            \"ingredients\": {\"type\": \"text\"},\n",
    "            \"instructions\": {\"type\": \"text\"},\n",
    "            \"prep_time\": {\"type\": \"integer\"},\n",
    "            \"cook_time\": {\"type\": \"integer\"},\n",
    "            \"cuisine\": {\"type\": \"keyword\"},\n",
    "            \"course\": {\"type\": \"keyword\"},\n",
    "            \"diet\": {\"type\": \"keyword\"},\n",
    "            \"image\": {\"type\": \"keyword\"},\n",
    "            \"url\": {\"type\": \"keyword\"},\n",
    "            \"embedding\": {\"type\": \"dense_vector\", \"dims\": 1536},\n",
    "            \"accepted\": {\"type\": \"boolean\"},  # Additional field for RecipeAdd\n",
    "        }\n",
    "    }\n",
    "}\n",
    "\n",
    "USER_REVIEW_MAPPING = {\n",
    "    \"mappings\": {\n",
    "        \"properties\": {\n",
    "            \"email\": {\"type\": \"keyword\"},\n",
    "            \"reviews\": {\n",
    "                \"type\": \"nested\",  # Using nested type for the array of reviews\n",
    "                \"properties\": {\n",
    "                    \"email\": {\"type\": \"keyword\"},\n",
    "                    \"input_description\": {\"type\": \"text\"},\n",
    "                    \"input_image\": {\"type\": \"keyword\"},\n",
    "                    \"recipe_id\": {\"type\": \"integer\"},\n",
    "                    \"rating\": {\"type\": \"integer\"},\n",
    "                    \"comment\": {\"type\": \"text\"},\n",
    "                },\n",
    "            },\n",
    "        }\n",
    "    }\n",
    "}\n",
    "\n",
    "\n",
    "# 3. Modified create_indices function with index settings\n",
    "async def create_indices(es_client):\n",
    "    \"\"\"Create Elasticsearch indices with their mappings.\"\"\"\n",
    "    indices = {\n",
    "        \"users\": USER_MAPPING,\n",
    "        \"recipes\": RECIPE_MAPPING,\n",
    "        \"feedback\": FEEDBACK_MAPPING,\n",
    "        \"recipe_submissions\": RECIPE_ADD_MAPPING,\n",
    "        \"user_reviews\": USER_REVIEW_MAPPING,\n",
    "    }\n",
    "\n",
    "    # Add index settings\n",
    "    index_settings = {\n",
    "        \"number_of_shards\": 3,\n",
    "        \"number_of_replicas\": 1,\n",
    "        \"refresh_interval\": \"1s\",\n",
    "    }\n",
    "\n",
    "    for index_name, mapping in indices.items():\n",
    "        if not await es_client.indices.exists(index=index_name):\n",
    "            # Merge settings with mapping\n",
    "            if \"settings\" not in mapping:\n",
    "                mapping[\"settings\"] = index_settings\n",
    "            else:\n",
    "                mapping[\"settings\"].update(index_settings)\n",
    "\n",
    "            await es_client.indices.create(index=index_name, body=mapping)\n",
    "            print(f\"Created index: {index_name}\")"
   ]
  },
  {
   "cell_type": "code",
   "execution_count": 51,
   "metadata": {},
   "outputs": [
    {
     "name": "stderr",
     "output_type": "stream",
     "text": [
      "/home/charbel/anaconda3/lib/python3.12/site-packages/elasticsearch/_async/client/__init__.py:402: SecurityWarning: Connecting to 'https://localhost:9200' using TLS with verify_certs=False is insecure\n",
      "  _transport = transport_class(\n"
     ]
    }
   ],
   "source": [
    "from elasticsearch import AsyncElasticsearch  # Change this import\n",
    "\n",
    "# Create async client instance\n",
    "es = AsyncElasticsearch(\n",
    "    \"https://localhost:9200\",\n",
    "    basic_auth=(\"elastic\", \"TyE3xKUcfnJT_3VkbC4k\"),\n",
    "    verify_certs=False,\n",
    ")"
   ]
  },
  {
   "cell_type": "code",
   "execution_count": 52,
   "metadata": {},
   "outputs": [
    {
     "name": "stdout",
     "output_type": "stream",
     "text": [
      "Created index: users\n",
      "Created index: recipes\n",
      "Created index: feedback\n",
      "Created index: recipe_submissions\n",
      "Created index: user_reviews\n"
     ]
    }
   ],
   "source": [
    "await create_indices(es)"
   ]
  },
  {
   "cell_type": "code",
   "execution_count": null,
   "metadata": {},
   "outputs": [],
   "source": []
  }
 ],
 "metadata": {
  "kernelspec": {
   "display_name": "base",
   "language": "python",
   "name": "python3"
  },
  "language_info": {
   "codemirror_mode": {
    "name": "ipython",
    "version": 3
   },
   "file_extension": ".py",
   "mimetype": "text/x-python",
   "name": "python",
   "nbconvert_exporter": "python",
   "pygments_lexer": "ipython3",
   "version": "3.12.4"
  }
 },
 "nbformat": 4,
 "nbformat_minor": 2
}
